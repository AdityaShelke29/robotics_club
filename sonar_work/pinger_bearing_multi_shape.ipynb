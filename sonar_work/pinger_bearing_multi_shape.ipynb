{
 "cells": [
  {
   "cell_type": "code",
   "execution_count": 41,
   "metadata": {},
   "outputs": [
    {
     "name": "stdout",
     "output_type": "stream",
     "text": [
      "0.0015378117130731138\n",
      "0.00163039574486671\n",
      "0.0017551317848460187\n",
      "0.0013673044827600042\n",
      "\n",
      "\n",
      "-9.258403179359612e-05\n",
      "-0.0002173200717729049\n",
      "0.0001705072303131096\n"
     ]
    }
   ],
   "source": [
    "import numpy as np\n",
    "import math\n",
    "\n",
    "# Generating Data\n",
    "hydrophone1 = [0, 0, 0]\n",
    "hydrophone2 = [-0.20, 0, 0.15]\n",
    "hydrophone3 = [-0.25, 0.15, -0.15]\n",
    "hydrophone4 = [0.20, -0.15, 0.05]\n",
    "\n",
    "pinger_location = [1.9, -1.1, 0.6]\n",
    "\n",
    "time_1 = math.sqrt( (hydrophone1[0] - pinger_location[0])**2 + (hydrophone1[1] - pinger_location[1])**2 + (hydrophone1[2] - pinger_location[2])**2 ) / 1480\n",
    "time_2 = math.sqrt( (hydrophone2[0] - pinger_location[0])**2 + (hydrophone2[1] - pinger_location[1])**2 + (hydrophone2[2] - pinger_location[2])**2 ) / 1480\n",
    "time_3 = math.sqrt( (hydrophone3[0] - pinger_location[0])**2 + (hydrophone3[1] - pinger_location[1])**2 + (hydrophone3[2] - pinger_location[2])**2 ) / 1480\n",
    "time_4 = math.sqrt( (hydrophone4[0] - pinger_location[0])**2 + (hydrophone4[1] - pinger_location[1])**2 + (hydrophone4[2] - pinger_location[2])**2 ) / 1480\n",
    "\n",
    "print(time_1)\n",
    "print(time_2)\n",
    "print(time_3)\n",
    "print(time_4)\n",
    "print(\"\\n\")\n",
    "print(time_1 - time_2)\n",
    "print(time_1 - time_3)\n",
    "print(time_1 - time_4)"
   ]
  },
  {
   "cell_type": "code",
   "execution_count": 42,
   "metadata": {},
   "outputs": [
    {
     "name": "stdout",
     "output_type": "stream",
     "text": [
      "[[-0.2   0.    0.15]\n",
      " [-0.25  0.15 -0.15]\n",
      " [ 0.2  -0.15  0.05]]\n",
      "[[-0.13702437]\n",
      " [-0.32163371]\n",
      " [ 0.2523507 ]]\n",
      "[[ -3.63636364  -5.45454545  -5.45454545]\n",
      " [ -4.24242424  -9.6969697  -16.36363636]\n",
      " [  1.81818182  -7.27272727  -7.27272727]]\n",
      "[[ 0.87617773]\n",
      " [-0.42918731]\n",
      " [ 0.25474119]]\n"
     ]
    }
   ],
   "source": [
    "distance_2 = (time_1 - time_2) * 1480\n",
    "distance_3 = (time_1 - time_3) * 1480\n",
    "distance_4 = (time_1 - time_4) * 1480\n",
    "\n",
    "main_vector = [\n",
    "    hydrophone2,\n",
    "    hydrophone3,\n",
    "    hydrophone4\n",
    "]\n",
    "\n",
    "distance_vector = [\n",
    "    [distance_2],\n",
    "    [distance_3],\n",
    "    [distance_4]\n",
    "]\n",
    "\n",
    "main_vector = np.array(main_vector)\n",
    "distance_vector = np.array(distance_vector)\n",
    "inverse_main_vector = np.linalg.inv(main_vector)\n",
    "\n",
    "result = np.matmul(inverse_main_vector, distance_vector)\n",
    "\n",
    "print(main_vector)\n",
    "print(distance_vector)\n",
    "print(inverse_main_vector)\n",
    "print(result)"
   ]
  }
 ],
 "metadata": {
  "kernelspec": {
   "display_name": "Python 3",
   "language": "python",
   "name": "python3"
  },
  "language_info": {
   "codemirror_mode": {
    "name": "ipython",
    "version": 3
   },
   "file_extension": ".py",
   "mimetype": "text/x-python",
   "name": "python",
   "nbconvert_exporter": "python",
   "pygments_lexer": "ipython3",
   "version": "3.10.6"
  },
  "orig_nbformat": 4,
  "vscode": {
   "interpreter": {
    "hash": "aee8b7b246df8f9039afb4144a1f6fd8d2ca17a180786b69acc140d282b71a49"
   }
  }
 },
 "nbformat": 4,
 "nbformat_minor": 2
}
