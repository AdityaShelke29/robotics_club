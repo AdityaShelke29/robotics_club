{
 "cells": [
  {
   "cell_type": "code",
   "execution_count": 32,
   "metadata": {},
   "outputs": [
    {
     "name": "stdout",
     "output_type": "stream",
     "text": [
      "0.014121457274500943\n",
      "0.014180777286328293\n",
      "0.014050820458448524\n",
      "0.014140014144264496\n"
     ]
    }
   ],
   "source": [
    "import numpy as np\n",
    "import math\n",
    "\n",
    "# Generating Data\n",
    "hydrophone1 = [0.20, 0.15, -0.15]\n",
    "hydrophone2 = [-0.20, 0.00, 0.15]\n",
    "hydrophone3 = [-0.25, 0.15, -0.15]\n",
    "hydrophone4 = [0.20, -0.15, 0.05]\n",
    "\n",
    "pinger_location = [-5, -10, -18]\n",
    "\n",
    "time_1 = math.sqrt( (hydrophone1[0] - pinger_location[0])**2 + (hydrophone1[1] - pinger_location[1])**2 + (hydrophone1[2] - pinger_location[2])**2 ) / 1500\n",
    "time_2 = math.sqrt( (hydrophone2[0] - pinger_location[0])**2 + (hydrophone2[1] - pinger_location[1])**2 + (hydrophone2[2] - pinger_location[2])**2 ) / 1500\n",
    "time_3 = math.sqrt( (hydrophone3[0] - pinger_location[0])**2 + (hydrophone3[1] - pinger_location[1])**2 + (hydrophone3[2] - pinger_location[2])**2 ) / 1500\n",
    "time_4 = math.sqrt( (hydrophone4[0] - pinger_location[0])**2 + (hydrophone4[1] - pinger_location[1])**2 + (hydrophone4[2] - pinger_location[2])**2 ) / 1500\n",
    "\n",
    "print(time_1)\n",
    "print(time_2)\n",
    "print(time_3)\n",
    "print(time_4)"
   ]
  },
  {
   "cell_type": "code",
   "execution_count": 33,
   "metadata": {},
   "outputs": [
    {
     "name": "stdout",
     "output_type": "stream",
     "text": [
      "[[-0.2   0.    0.15]\n",
      " [-0.25  0.15 -0.15]\n",
      " [ 0.2  -0.15  0.05]]\n",
      "[[-0.08898002]\n",
      " [ 0.10595522]\n",
      " [-0.0278353 ]]\n",
      "[[ -3.63636364  -5.45454545  -5.45454545]\n",
      " [ -4.24242424  -9.6969697  -16.36363636]\n",
      " [  1.81818182  -7.27272727  -7.27272727]]\n",
      "[[-0.10254495]\n",
      " [-0.19446681]\n",
      " [-0.72992672]]\n"
     ]
    }
   ],
   "source": [
    "distance_2 = (time_1 - time_2) * 1500\n",
    "distance_3 = (time_1 - time_3) * 1500\n",
    "distance_4 = (time_1 - time_4) * 1500\n",
    "\n",
    "main_vector = [\n",
    "    hydrophone2,\n",
    "    hydrophone3,\n",
    "    hydrophone4\n",
    "]\n",
    "\n",
    "distance_vector = [\n",
    "    [distance_2],\n",
    "    [distance_3],\n",
    "    [distance_4]\n",
    "]\n",
    "\n",
    "main_vector = np.array(main_vector)\n",
    "distance_vector = np.array(distance_vector)\n",
    "inverse_main_vector = np.linalg.inv(main_vector)\n",
    "\n",
    "result = np.matmul(inverse_main_vector, distance_vector)\n",
    "\n",
    "print(main_vector)\n",
    "print(distance_vector)\n",
    "print(inverse_main_vector)\n",
    "print(result)"
   ]
  }
 ],
 "metadata": {
  "kernelspec": {
   "display_name": "Python 3",
   "language": "python",
   "name": "python3"
  },
  "language_info": {
   "codemirror_mode": {
    "name": "ipython",
    "version": 3
   },
   "file_extension": ".py",
   "mimetype": "text/x-python",
   "name": "python",
   "nbconvert_exporter": "python",
   "pygments_lexer": "ipython3",
   "version": "3.10.6"
  },
  "orig_nbformat": 4,
  "vscode": {
   "interpreter": {
    "hash": "aee8b7b246df8f9039afb4144a1f6fd8d2ca17a180786b69acc140d282b71a49"
   }
  }
 },
 "nbformat": 4,
 "nbformat_minor": 2
}
